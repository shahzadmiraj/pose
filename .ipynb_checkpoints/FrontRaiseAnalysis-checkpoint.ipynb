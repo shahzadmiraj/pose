{
 "cells": [
  {
   "cell_type": "code",
   "execution_count": 1,
   "metadata": {
    "collapsed": true
   },
   "outputs": [],
   "source": [
    "import os\n",
    "import sys\n",
    "import glob\n",
    "import numpy as np\n",
    "\n",
    "from parse import load_ps\n",
    "\n",
    "import matplotlib.pyplot as plt"
   ]
  },
  {
   "cell_type": "code",
   "execution_count": 23,
   "metadata": {
    "collapsed": true
   },
   "outputs": [],
   "source": [
    "def split_num(s):\n",
    "    head = s.rstrip('0123456789')\n",
    "    tail = s[len(head):]\n",
    "    return head, tail"
   ]
  },
  {
   "cell_type": "code",
   "execution_count": 26,
   "metadata": {},
   "outputs": [],
   "source": [
    "def files_in_order(folderpath):\n",
    "    npy_files = os.listdir(folderpath)\n",
    "\n",
    "    no_extensions = [os.path.splitext(npy_file)[0] for npy_file in npy_files]\n",
    "\n",
    "    splitted = [split_num(s) for s in no_extensions]\n",
    "\n",
    "    splitted = np.array(splitted)\n",
    "\n",
    "    indices = np.lexsort((splitted[:, 1].astype(int), splitted[:, 0]))\n",
    "\n",
    "    npy_files = np.array(npy_files)\n",
    "    return npy_files[indices]"
   ]
  },
  {
   "cell_type": "code",
   "execution_count": 27,
   "metadata": {},
   "outputs": [
    {
     "name": "stdout",
     "output_type": "stream",
     "text": [
      "['frontraise_bad_1.npy' 'frontraise_bad_2.npy' 'frontraise_bad_3.npy'\n",
      " 'frontraise_bad_4.npy' 'frontraise_bad_5.npy' 'frontraise_bad_6.npy'\n",
      " 'frontraise_bad_7.npy' 'frontraise_bad_8.npy' 'frontraise_bad_9.npy'\n",
      " 'frontraise_bad_10.npy' 'frontraise_bad_11.npy' 'frontraise_bad_12.npy'\n",
      " 'frontraise_bad_13.npy' 'frontraise_good_1.npy' 'frontraise_good_2.npy'\n",
      " 'frontraise_good_3.npy' 'frontraise_good_4.npy' 'frontraise_good_5.npy'\n",
      " 'frontraise_good_6.npy' 'frontraise_good_7.npy' 'frontraise_good_8.npy'\n",
      " 'frontraise_good_9.npy' 'frontraise_good_10.npy' 'frontraise_good_11.npy'\n",
      " 'frontraise_good_12.npy' 'frontraise_good_13.npy' 'frontraise_good_14.npy'\n",
      " 'frontraise_good_15.npy']\n"
     ]
    }
   ],
   "source": [
    "print(files_in_order('poses_compressed\\\\frontraise'))\n"
   ]
  },
  {
   "cell_type": "code",
   "execution_count": null,
   "metadata": {
    "collapsed": true
   },
   "outputs": [],
   "source": []
  }
 ],
 "metadata": {
  "kernelspec": {
   "display_name": "Python 3",
   "language": "python",
   "name": "python3"
  },
  "language_info": {
   "codemirror_mode": {
    "name": "ipython",
    "version": 3
   },
   "file_extension": ".py",
   "mimetype": "text/x-python",
   "name": "python",
   "nbconvert_exporter": "python",
   "pygments_lexer": "ipython3",
   "version": "3.6.2"
  }
 },
 "nbformat": 4,
 "nbformat_minor": 2
}
