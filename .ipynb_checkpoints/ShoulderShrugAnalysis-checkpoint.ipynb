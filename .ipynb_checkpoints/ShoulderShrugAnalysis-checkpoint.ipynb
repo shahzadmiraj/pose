{
 "cells": [
  {
   "cell_type": "code",
   "execution_count": 1,
   "metadata": {
    "collapsed": true
   },
   "outputs": [],
   "source": [
    "import os\n",
    "import sys\n",
    "import glob\n",
    "import numpy as np\n",
    "\n",
    "from parse import load_ps\n",
    "\n",
    "import matplotlib.pyplot as plt"
   ]
  },
  {
   "cell_type": "code",
   "execution_count": 2,
   "metadata": {
    "collapsed": true
   },
   "outputs": [],
   "source": [
    "def split_num(s):\n",
    "    head = s.rstrip('0123456789')\n",
    "    tail = s[len(head):]\n",
    "    return head, tail"
   ]
  },
  {
   "cell_type": "code",
   "execution_count": 3,
   "metadata": {
    "collapsed": true
   },
   "outputs": [],
   "source": [
    "def files_in_order(folderpath):\n",
    "    npy_files = os.listdir(folderpath)\n",
    "\n",
    "    no_extensions = [os.path.splitext(npy_file)[0] for npy_file in npy_files]\n",
    "\n",
    "    splitted = [split_num(s) for s in no_extensions]\n",
    "\n",
    "    splitted = np.array(splitted)\n",
    "\n",
    "    indices = np.lexsort((splitted[:, 1].astype(int), splitted[:, 0]))\n",
    "\n",
    "    npy_files = np.array(npy_files)\n",
    "    return npy_files[indices]"
   ]
  },
  {
   "cell_type": "code",
   "execution_count": 4,
   "metadata": {
    "collapsed": false
   },
   "outputs": [
    {
     "name": "stdout",
     "output_type": "stream",
     "text": [
      "['shouldershrug_bad_1.npy' 'shouldershrug_bad_2.npy'\n",
      " 'shouldershrug_bad_3.npy' 'shouldershrug_bad_4.npy'\n",
      " 'shouldershrug_bad_5.npy' 'shouldershrug_bad_6.npy'\n",
      " 'shouldershrug_bad_7.npy' 'shouldershrug_bad_8.npy'\n",
      " 'shouldershrug_bad_9.npy' 'shouldershrug_bad_10.npy'\n",
      " 'shouldershrug_bad_11.npy' 'shouldershrug_bad_12.npy'\n",
      " 'shouldershrug_bad_13.npy' 'shouldershrug_bad_14.npy'\n",
      " 'shouldershrug_bad_15.npy' 'shouldershrug_bad_16.npy'\n",
      " 'shouldershrug_bad_17.npy' 'shouldershrug_good_1.npy'\n",
      " 'shouldershrug_good_2.npy' 'shouldershrug_good_3.npy'\n",
      " 'shouldershrug_good_4.npy' 'shouldershrug_good_5.npy'\n",
      " 'shouldershrug_good_6.npy' 'shouldershrug_good_7.npy'\n",
      " 'shouldershrug_good_8.npy' 'shouldershrug_good_9.npy'\n",
      " 'shouldershrug_good_10.npy' 'shouldershrug_good_11.npy'\n",
      " 'shouldershrug_good_12.npy' 'shouldershrug_good_13.npy'\n",
      " 'shouldershrug_good_14.npy' 'shouldershrug_good_15.npy']\n"
     ]
    }
   ],
   "source": [
    "files = files_in_order(os.path.join('poses_compressed', 'shouldershrug'))\n",
    "print(files)"
   ]
  },
  {
   "cell_type": "code",
   "execution_count": 11,
   "metadata": {
    "collapsed": false
   },
   "outputs": [
    {
     "name": "stdout",
     "output_type": "stream",
     "text": [
      "==============================\n",
      "Starting: shouldershrug_bad_1.npy\n",
      "Max upper arm and forearm angle:  38.86728004593292\n",
      "==============================\n",
      "Starting: shouldershrug_bad_2.npy\n",
      "Max upper arm and forearm angle:  39.18063589761602\n",
      "==============================\n",
      "Starting: shouldershrug_bad_3.npy\n",
      "Max upper arm and forearm angle:  39.180635897616\n",
      "==============================\n",
      "Starting: shouldershrug_bad_4.npy\n",
      "Max upper arm and forearm angle:  37.83731191147978\n",
      "==============================\n",
      "Starting: shouldershrug_bad_5.npy\n",
      "Max upper arm and forearm angle:  35.333322954359595\n",
      "==============================\n",
      "Starting: shouldershrug_bad_6.npy\n",
      "Max upper arm and forearm angle:  35.333322954359616\n",
      "==============================\n",
      "Starting: shouldershrug_bad_7.npy\n",
      "Max upper arm and forearm angle:  12.458666766668538\n",
      "==============================\n",
      "Starting: shouldershrug_bad_8.npy\n",
      "Max upper arm and forearm angle:  12.790428569823344\n",
      "==============================\n",
      "Starting: shouldershrug_bad_9.npy\n",
      "Max upper arm and forearm angle:  8.842674706208296\n",
      "==============================\n",
      "Starting: shouldershrug_bad_10.npy\n",
      "Max upper arm and forearm angle:  6.627003455037169\n",
      "==============================\n",
      "Starting: shouldershrug_bad_11.npy\n",
      "Max upper arm and forearm angle:  6.62700345503728\n",
      "==============================\n",
      "Starting: shouldershrug_bad_12.npy\n",
      "Max upper arm and forearm angle:  3.400607161449127\n",
      "==============================\n",
      "Starting: shouldershrug_bad_13.npy\n",
      "Max upper arm and forearm angle:  27.304202678889073\n",
      "==============================\n",
      "Starting: shouldershrug_bad_14.npy\n",
      "Max upper arm and forearm angle:  32.99741523311454\n",
      "==============================\n",
      "Starting: shouldershrug_bad_15.npy\n",
      "Max upper arm and forearm angle:  25.738407720117944\n",
      "==============================\n",
      "Starting: shouldershrug_bad_16.npy\n",
      "Max upper arm and forearm angle:  29.03722147507997\n",
      "==============================\n",
      "Starting: shouldershrug_bad_17.npy\n",
      "Max upper arm and forearm angle:  46.49424711540346\n",
      "==============================\n",
      "Starting: shouldershrug_good_1.npy\n",
      "Max upper arm and forearm angle:  21.8301322578223\n",
      "==============================\n",
      "Starting: shouldershrug_good_2.npy\n",
      "Max upper arm and forearm angle:  18.89392818473071\n",
      "==============================\n",
      "Starting: shouldershrug_good_3.npy\n",
      "Max upper arm and forearm angle:  26.23905789965851\n",
      "==============================\n",
      "Starting: shouldershrug_good_4.npy\n",
      "Max upper arm and forearm angle:  26.239057899658437\n",
      "==============================\n",
      "Starting: shouldershrug_good_5.npy\n",
      "Max upper arm and forearm angle:  15.179214977584998\n",
      "==============================\n",
      "Starting: shouldershrug_good_6.npy\n",
      "Max upper arm and forearm angle:  13.016498451379936\n",
      "==============================\n",
      "Starting: shouldershrug_good_7.npy\n",
      "Max upper arm and forearm angle:  14.835668014464016\n",
      "==============================\n",
      "Starting: shouldershrug_good_8.npy\n",
      "Max upper arm and forearm angle:  15.772729461660623\n",
      "==============================\n",
      "Starting: shouldershrug_good_9.npy\n",
      "Max upper arm and forearm angle:  15.825368915586095\n",
      "==============================\n",
      "Starting: shouldershrug_good_10.npy\n",
      "Max upper arm and forearm angle:  10.85980946672549\n",
      "==============================\n",
      "Starting: shouldershrug_good_11.npy\n",
      "Max upper arm and forearm angle:  14.984090329207131\n",
      "==============================\n",
      "Starting: shouldershrug_good_12.npy\n",
      "Max upper arm and forearm angle:  13.832811001053436\n",
      "==============================\n",
      "Starting: shouldershrug_good_13.npy\n",
      "Max upper arm and forearm angle:  9.293873438552607\n",
      "==============================\n",
      "Starting: shouldershrug_good_14.npy\n",
      "Max upper arm and forearm angle:  9.293873438552724\n",
      "==============================\n",
      "Starting: shouldershrug_good_15.npy\n",
      "Max upper arm and forearm angle:  8.769834926978048\n"
     ]
    }
   ],
   "source": [
    "for filename in files:\n",
    "    print(\"=\"*30)\n",
    "    print(\"Starting:\", filename)\n",
    "    ps = load_ps(\"poses_compressed/shouldershrug/\" + filename)\n",
    "    poses = ps.poses\n",
    "    \n",
    "    joints = [(pose.lshoulder, pose.rshoulder, pose.lelbow, pose.relbow, pose.lwrist, pose.rwrist) for pose in poses]\n",
    "\n",
    "    # filter out data points where a part does not exist\n",
    "    joints = [joint for joint in joints if all(part.exists for part in joint)]\n",
    "    joints = np.array(joints)\n",
    "    \n",
    "    # Shoulder position\n",
    "    shoulders = np.array([(joint[0].y, joint[1].y) for joint in joints])\n",
    "\n",
    "    # Straining back\n",
    "    shoulder_range = np.max(shoulders, axis=0) - np.min(shoulders, axis=0)\n",
    "    print(\"Range of motion for shoulders: %s\" % np.average(shoulder_range))\n",
    "    \n",
    "    # Shoulder to elbow    \n",
    "    upper_arm_vecs = np.array([(joint[0].x - joint[2].x, joint[0].y - joint[2].y) for joint in joints])\n",
    "    # Elbow to wrist\n",
    "    forearm_vecs = np.array([(joint[2].x - joint[4].x, joint[2].y - joint[4].y) for joint in joints])\n",
    "    \n",
    "    # normalize vectors\n",
    "    upper_arm_vecs = upper_arm_vecs / np.expand_dims(np.linalg.norm(upper_arm_vecs, axis=1), axis=1)\n",
    "    forearm_vecs = forearm_vecs / np.expand_dims(np.linalg.norm(forearm_vecs, axis=1), axis=1)\n",
    "    \n",
    "    # Check if raised all the way up\n",
    "    upper_arm_forearm_angles = np.degrees(np.arccos(np.clip(np.sum(np.multiply(upper_arm_vecs, forearm_vecs), axis=1), -1.0, 1.0)))\n",
    "    upper_forearm_angle = np.max(upper_arm_forearm_angles)\n",
    "    print(\"Max upper arm and forearm angle: \", np.max(upper_arm_forearm_angles))\n",
    "    \n"
   ]
  },
  {
   "cell_type": "code",
   "execution_count": null,
   "metadata": {
    "collapsed": true
   },
   "outputs": [],
   "source": []
  }
 ],
 "metadata": {
  "kernelspec": {
   "display_name": "Python 3",
   "language": "python",
   "name": "python3"
  },
  "language_info": {
   "codemirror_mode": {
    "name": "ipython",
    "version": 3
   },
   "file_extension": ".py",
   "mimetype": "text/x-python",
   "name": "python",
   "nbconvert_exporter": "python",
   "pygments_lexer": "ipython3",
   "version": "3.6.4"
  }
 },
 "nbformat": 4,
 "nbformat_minor": 2
}
