{
 "cells": [
  {
   "cell_type": "code",
   "execution_count": 1,
   "metadata": {
    "collapsed": true
   },
   "outputs": [],
   "source": [
    "import os\n",
    "import sys\n",
    "import glob\n",
    "import numpy as np\n",
    "\n",
    "from parse import load_ps\n",
    "\n",
    "import matplotlib.pyplot as plt"
   ]
  },
  {
   "cell_type": "code",
   "execution_count": 2,
   "metadata": {
    "collapsed": true
   },
   "outputs": [],
   "source": [
    "def split_num(s):\n",
    "    head = s.rstrip('0123456789')\n",
    "    tail = s[len(head):]\n",
    "    return head, tail"
   ]
  },
  {
   "cell_type": "code",
   "execution_count": 3,
   "metadata": {
    "collapsed": true
   },
   "outputs": [],
   "source": [
    "def files_in_order(folderpath):\n",
    "    npy_files = os.listdir(folderpath)\n",
    "\n",
    "    no_extensions = [os.path.splitext(npy_file)[0] for npy_file in npy_files]\n",
    "\n",
    "    splitted = [split_num(s) for s in no_extensions]\n",
    "\n",
    "    splitted = np.array(splitted)\n",
    "\n",
    "    indices = np.lexsort((splitted[:, 1].astype(int), splitted[:, 0]))\n",
    "\n",
    "    npy_files = np.array(npy_files)\n",
    "    return npy_files[indices]"
   ]
  },
  {
   "cell_type": "code",
   "execution_count": 9,
   "metadata": {},
   "outputs": [
    {
     "name": "stdout",
     "output_type": "stream",
     "text": [
      "['frontraise_bad_1.npy' 'frontraise_bad_2.npy' 'frontraise_bad_3.npy'\n",
      " 'frontraise_bad_4.npy' 'frontraise_bad_5.npy' 'frontraise_bad_6.npy'\n",
      " 'frontraise_bad_7.npy' 'frontraise_bad_8.npy' 'frontraise_bad_9.npy'\n",
      " 'frontraise_bad_10.npy' 'frontraise_bad_11.npy' 'frontraise_bad_12.npy'\n",
      " 'frontraise_bad_13.npy' 'frontraise_good_1.npy' 'frontraise_good_2.npy'\n",
      " 'frontraise_good_3.npy' 'frontraise_good_4.npy' 'frontraise_good_5.npy'\n",
      " 'frontraise_good_6.npy' 'frontraise_good_7.npy' 'frontraise_good_8.npy'\n",
      " 'frontraise_good_9.npy' 'frontraise_good_10.npy' 'frontraise_good_11.npy'\n",
      " 'frontraise_good_12.npy' 'frontraise_good_13.npy'\n",
      " 'frontraise_good_14.npy' 'frontraise_good_15.npy']\n"
     ]
    }
   ],
   "source": [
    "files = files_in_order(os.path.join('poses_compressed', 'frontraise'))\n",
    "print(files)"
   ]
  },
  {
   "cell_type": "code",
   "execution_count": 20,
   "metadata": {},
   "outputs": [
    {
     "name": "stdout",
     "output_type": "stream",
     "text": [
      "==============================\n",
      "Starting: frontraise_bad_1.npy\n",
      "Max angle:  76.44579393687194\n",
      "==============================\n",
      "Starting: frontraise_bad_2.npy\n",
      "Max angle:  76.53542334932133\n",
      "==============================\n",
      "Starting: frontraise_bad_3.npy\n",
      "Max angle:  83.44028662338161\n",
      "==============================\n",
      "Starting: frontraise_bad_4.npy\n",
      "Max angle:  91.45787597595873\n",
      "==============================\n",
      "Starting: frontraise_bad_5.npy\n",
      "Max angle:  73.68385164131362\n",
      "==============================\n",
      "Starting: frontraise_bad_6.npy\n",
      "Max angle:  77.0184894992613\n",
      "==============================\n",
      "Starting: frontraise_bad_7.npy\n",
      "Max angle:  93.28387860403919\n",
      "==============================\n",
      "Starting: frontraise_bad_8.npy\n",
      "Max angle:  61.81476558703319\n",
      "==============================\n",
      "Starting: frontraise_bad_9.npy\n",
      "Max angle:  70.16220719382201\n",
      "==============================\n",
      "Starting: frontraise_bad_10.npy\n",
      "Max angle:  67.74141626093673\n",
      "==============================\n",
      "Starting: frontraise_bad_11.npy\n",
      "Max angle:  65.60892049810339\n",
      "==============================\n",
      "Starting: frontraise_bad_12.npy\n",
      "Max angle:  73.49291738986014\n",
      "==============================\n",
      "Starting: frontraise_bad_13.npy\n",
      "Max angle:  65.20889427317154\n",
      "==============================\n",
      "Starting: frontraise_good_1.npy\n",
      "Max angle:  105.97905342601622\n",
      "==============================\n",
      "Starting: frontraise_good_2.npy\n",
      "Max angle:  104.05891172589975\n",
      "==============================\n",
      "Starting: frontraise_good_3.npy\n",
      "Max angle:  101.64971336209359\n",
      "==============================\n",
      "Starting: frontraise_good_4.npy\n",
      "Max angle:  98.71037797092596\n",
      "==============================\n",
      "Starting: frontraise_good_5.npy\n",
      "Max angle:  104.99856244779693\n",
      "==============================\n",
      "Starting: frontraise_good_6.npy\n",
      "Max angle:  107.13825122517582\n",
      "==============================\n",
      "Starting: frontraise_good_7.npy\n",
      "Max angle:  108.414909388629\n",
      "==============================\n",
      "Starting: frontraise_good_8.npy\n",
      "Max angle:  108.5533791991937\n",
      "==============================\n",
      "Starting: frontraise_good_9.npy\n",
      "Max angle:  92.46571165603493\n",
      "==============================\n",
      "Starting: frontraise_good_10.npy\n",
      "Max angle:  99.73228248176136\n",
      "==============================\n",
      "Starting: frontraise_good_11.npy\n",
      "Max angle:  95.22134879096605\n",
      "==============================\n",
      "Starting: frontraise_good_12.npy\n",
      "Max angle:  91.64297523968443\n",
      "==============================\n",
      "Starting: frontraise_good_13.npy\n",
      "Max angle:  95.6042943399203\n",
      "==============================\n",
      "Starting: frontraise_good_14.npy\n",
      "Max angle:  100.78599389212843\n",
      "==============================\n",
      "Starting: frontraise_good_15.npy\n",
      "Max angle:  100.556373519022\n"
     ]
    }
   ],
   "source": [
    "for filename in files:\n",
    "    print(\"=\"*30)\n",
    "    print(\"Starting:\", filename)\n",
    "    ps = load_ps(\"poses_compressed/frontraise/\" + filename)\n",
    "    poses = ps.poses\n",
    "    \n",
    "    right_present = [1 for pose in poses \n",
    "            if pose.rshoulder.exists and pose.relbow.exists and pose.rwrist.exists]\n",
    "    left_present = [1 for pose in poses\n",
    "            if pose.lshoulder.exists and pose.lelbow.exists and pose.lwrist.exists]\n",
    "    right_count = sum(right_present)\n",
    "    left_count = sum(left_present)\n",
    "    side = 'right' if right_count > left_count else 'left'\n",
    "\n",
    "    # print('Exercise arm detected as: {}.'.format(side))\n",
    "    \n",
    "    if side == 'right':\n",
    "        joints = [(pose.rshoulder, pose.relbow, pose.rwrist, pose.rhip, pose.neck) for pose in poses]\n",
    "    else:\n",
    "        joints = [(pose.lshoulder, pose.lelbow, pose.lwrist, pose.lhip, pose.neck) for pose in poses]\n",
    "\n",
    "    # filter out data points where a part does not exist\n",
    "    joints = [joint for joint in joints if all(part.exists for part in joint)]\n",
    "    joints = np.array(joints)\n",
    "    \n",
    "    # Neck to hip\n",
    "    back_vec = np.array([(joint[4].x - joint[3].x, joint[4].y - joint[3].y) for joint in joints])\n",
    "    # back_vec = np.array([(joint[3].x, joint[3].y) for joint in joints])\n",
    "    # Check range of motion of the back\n",
    "    # Straining back\n",
    "    back_vec_range = np.max(back_vec, axis=0) - np.min(back_vec, axis=0)\n",
    "    # print(\"Range of motion for back: %s\" % back_vec_range)\n",
    "    \n",
    "    # threshold the x difference at 0.3: less is good, more is too much straining and movement of the back.\n",
    "    \n",
    "    # Shoulder to hip    \n",
    "    torso_vecs = np.array([(joint[0].x - joint[3].x, joint[0].y - joint[3].y) for joint in joints])\n",
    "    # Arm\n",
    "    arm_vecs = np.array([(joint[0].x - joint[2].x, joint[0].y - joint[2].y) for joint in joints])\n",
    "    \n",
    "    # normalize vectors\n",
    "    torso_vecs = torso_vecs / np.expand_dims(np.linalg.norm(torso_vecs, axis=1), axis=1)\n",
    "    arm_vecs = arm_vecs / np.expand_dims(np.linalg.norm(arm_vecs, axis=1), axis=1)\n",
    "    \n",
    "    # Check if raised all the way up\n",
    "    angles = np.degrees(np.arccos(np.clip(np.sum(np.multiply(torso_vecs, arm_vecs), axis=1), -1.0, 1.0)))\n",
    "    print(\"Max angle: \", np.max(angles))\n",
    "    \n"
   ]
  },
  {
   "cell_type": "code",
   "execution_count": null,
   "metadata": {
    "collapsed": true
   },
   "outputs": [],
   "source": []
  }
 ],
 "metadata": {
  "kernelspec": {
   "display_name": "Python 3",
   "language": "python",
   "name": "python3"
  },
  "language_info": {
   "codemirror_mode": {
    "name": "ipython",
    "version": 3
   },
   "file_extension": ".py",
   "mimetype": "text/x-python",
   "name": "python",
   "nbconvert_exporter": "python",
   "pygments_lexer": "ipython3",
   "version": "3.5.4"
  }
 },
 "nbformat": 4,
 "nbformat_minor": 2
}
